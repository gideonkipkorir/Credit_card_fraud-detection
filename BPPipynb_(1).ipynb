{
  "cells": [
    {
      "cell_type": "markdown",
      "metadata": {
        "id": "view-in-github",
        "colab_type": "text"
      },
      "source": [
        "<a href=\"https://colab.research.google.com/github/gideonkipkorir/Credit_card_fraud-detection/blob/main/BPPipynb_(1).ipynb\" target=\"_parent\"><img src=\"https://colab.research.google.com/assets/colab-badge.svg\" alt=\"Open In Colab\"/></a>"
      ]
    },
    {
      "cell_type": "code",
      "execution_count": null,
      "metadata": {
        "id": "TPOPndy91EzJ",
        "outputId": "6e3bb194-b148-41cd-8cad-8be8e0382abd"
      },
      "outputs": [
        {
          "name": "stderr",
          "output_type": "stream",
          "text": [
            "C:\\Users\\Prince\\anaconda3\\lib\\site-packages\\xgboost\\compat.py:31: FutureWarning: pandas.Int64Index is deprecated and will be removed from pandas in a future version. Use pandas.Index with the appropriate dtype instead.\n",
            "  from pandas import MultiIndex, Int64Index\n"
          ]
        }
      ],
      "source": [
        "#Loading Libriaries\n",
        "import pandas as pd \n",
        "import numpy as np\n",
        "import matplotlib.pyplot as plt\n",
        "import seaborn as sns\n",
        "from sklearn import preprocessing\n",
        "import datetime\n",
        "from sklearn.model_selection import train_test_split\n",
        "from xgboost import XGBClassifier\n",
        "from sklearn.ensemble import RandomForestClassifier\n",
        "from sklearn.metrics import accuracy_score,confusion_matrix,roc_curve, auc\n",
        "import warnings\n",
        "warnings.filterwarnings('ignore')"
      ]
    },
    {
      "cell_type": "code",
      "execution_count": null,
      "metadata": {
        "id": "J40LbnKw1nLR"
      },
      "outputs": [],
      "source": [
        "#function to read data\n",
        "def readdata():\n",
        "    df_train = pd.read_csv('CreditCardData.csv')\n",
        "    return  df_train"
      ]
    },
    {
      "cell_type": "markdown",
      "source": [
        "## Data Understanding"
      ],
      "metadata": {
        "id": "YfdBXTtB3bV_"
      }
    },
    {
      "cell_type": "code",
      "execution_count": null,
      "metadata": {
        "colab": {
          "base_uri": "https://localhost:8080/",
          "height": 354
        },
        "id": "Wnd9G9RVhCuH",
        "outputId": "08b36687-61d5-4404-ff43-e560f5e347a8"
      },
      "outputs": [
        {
          "data": {
            "text/html": [
              "<div>\n",
              "<style scoped>\n",
              "    .dataframe tbody tr th:only-of-type {\n",
              "        vertical-align: middle;\n",
              "    }\n",
              "\n",
              "    .dataframe tbody tr th {\n",
              "        vertical-align: top;\n",
              "    }\n",
              "\n",
              "    .dataframe thead th {\n",
              "        text-align: right;\n",
              "    }\n",
              "</style>\n",
              "<table border=\"1\" class=\"dataframe\">\n",
              "  <thead>\n",
              "    <tr style=\"text-align: right;\">\n",
              "      <th></th>\n",
              "      <th>Transaction ID</th>\n",
              "      <th>Date</th>\n",
              "      <th>Time</th>\n",
              "      <th>Type of Card</th>\n",
              "      <th>Entry Mode</th>\n",
              "      <th>Amount</th>\n",
              "      <th>Type of Transaction</th>\n",
              "      <th>Merchant Group</th>\n",
              "      <th>Country of Transaction</th>\n",
              "      <th>Shipping Address</th>\n",
              "      <th>Country of Residence</th>\n",
              "      <th>Gender</th>\n",
              "      <th>Age</th>\n",
              "      <th>Bank</th>\n",
              "      <th>Fraud</th>\n",
              "    </tr>\n",
              "  </thead>\n",
              "  <tbody>\n",
              "    <tr>\n",
              "      <th>0</th>\n",
              "      <td>#2546 884</td>\n",
              "      <td>13-Oct-20</td>\n",
              "      <td>23</td>\n",
              "      <td>MasterCard</td>\n",
              "      <td>Tap</td>\n",
              "      <td>£17</td>\n",
              "      <td>Online</td>\n",
              "      <td>Restaurant</td>\n",
              "      <td>United Kingdom</td>\n",
              "      <td>Russia</td>\n",
              "      <td>United Kingdom</td>\n",
              "      <td>F</td>\n",
              "      <td>36</td>\n",
              "      <td>Barclays</td>\n",
              "      <td>0</td>\n",
              "    </tr>\n",
              "    <tr>\n",
              "      <th>1</th>\n",
              "      <td>#2546 895</td>\n",
              "      <td>14-Oct-20</td>\n",
              "      <td>21</td>\n",
              "      <td>Visa</td>\n",
              "      <td>Tap</td>\n",
              "      <td>£28</td>\n",
              "      <td>Online</td>\n",
              "      <td>Gaming</td>\n",
              "      <td>United Kingdom</td>\n",
              "      <td>United Kingdom</td>\n",
              "      <td>United Kingdom</td>\n",
              "      <td>M</td>\n",
              "      <td>41</td>\n",
              "      <td>RBS</td>\n",
              "      <td>0</td>\n",
              "    </tr>\n",
              "    <tr>\n",
              "      <th>2</th>\n",
              "      <td>#2546 903</td>\n",
              "      <td>13-Oct-20</td>\n",
              "      <td>19</td>\n",
              "      <td>Visa</td>\n",
              "      <td>Tap</td>\n",
              "      <td>£8</td>\n",
              "      <td>Online</td>\n",
              "      <td>Subscription</td>\n",
              "      <td>United Kingdom</td>\n",
              "      <td>United Kingdom</td>\n",
              "      <td>United Kingdom</td>\n",
              "      <td>M</td>\n",
              "      <td>32</td>\n",
              "      <td>Barclays</td>\n",
              "      <td>0</td>\n",
              "    </tr>\n",
              "    <tr>\n",
              "      <th>3</th>\n",
              "      <td>#2546 906</td>\n",
              "      <td>14-Oct-20</td>\n",
              "      <td>9</td>\n",
              "      <td>MasterCard</td>\n",
              "      <td>PIN</td>\n",
              "      <td>£186</td>\n",
              "      <td>ATM</td>\n",
              "      <td>Entertainment</td>\n",
              "      <td>United Kingdom</td>\n",
              "      <td>United Kingdom</td>\n",
              "      <td>United Kingdom</td>\n",
              "      <td>F</td>\n",
              "      <td>65</td>\n",
              "      <td>Barclays</td>\n",
              "      <td>0</td>\n",
              "    </tr>\n",
              "    <tr>\n",
              "      <th>4</th>\n",
              "      <td>#2546 920</td>\n",
              "      <td>13-Oct-20</td>\n",
              "      <td>22</td>\n",
              "      <td>Visa</td>\n",
              "      <td>PIN</td>\n",
              "      <td>£86</td>\n",
              "      <td>Online</td>\n",
              "      <td>Children</td>\n",
              "      <td>United Kingdom</td>\n",
              "      <td>United Kingdom</td>\n",
              "      <td>United Kingdom</td>\n",
              "      <td>F</td>\n",
              "      <td>61</td>\n",
              "      <td>Monzo</td>\n",
              "      <td>0</td>\n",
              "    </tr>\n",
              "  </tbody>\n",
              "</table>\n",
              "</div>"
            ],
            "text/plain": [
              "  Transaction ID       Date  Time Type of Card Entry Mode Amount  \\\n",
              "0      #2546 884  13-Oct-20    23   MasterCard        Tap    £17   \n",
              "1      #2546 895  14-Oct-20    21         Visa        Tap    £28   \n",
              "2      #2546 903  13-Oct-20    19         Visa        Tap     £8   \n",
              "3      #2546 906  14-Oct-20     9   MasterCard        PIN   £186   \n",
              "4      #2546 920  13-Oct-20    22         Visa        PIN    £86   \n",
              "\n",
              "  Type of Transaction Merchant Group Country of Transaction Shipping Address  \\\n",
              "0              Online     Restaurant         United Kingdom           Russia   \n",
              "1              Online         Gaming         United Kingdom   United Kingdom   \n",
              "2              Online   Subscription         United Kingdom   United Kingdom   \n",
              "3                 ATM  Entertainment         United Kingdom   United Kingdom   \n",
              "4              Online       Children         United Kingdom   United Kingdom   \n",
              "\n",
              "  Country of Residence Gender  Age      Bank  Fraud  \n",
              "0       United Kingdom      F   36  Barclays      0  \n",
              "1       United Kingdom      M   41       RBS      0  \n",
              "2       United Kingdom      M   32  Barclays      0  \n",
              "3       United Kingdom      F   65  Barclays      0  \n",
              "4       United Kingdom      F   61     Monzo      0  "
            ]
          },
          "execution_count": 3,
          "metadata": {},
          "output_type": "execute_result"
        }
      ],
      "source": [
        "#Previewing the data\n",
        "df_train = readdata()\n",
        "df_train.head()"
      ]
    },
    {
      "cell_type": "code",
      "execution_count": null,
      "metadata": {
        "colab": {
          "base_uri": "https://localhost:8080/"
        },
        "id": "jlc1LTdshFXu",
        "outputId": "e5f68224-d17f-44a6-a8f1-24c8f92469da"
      },
      "outputs": [
        {
          "name": "stdout",
          "output_type": "stream",
          "text": [
            "<class 'pandas.core.frame.DataFrame'>\n",
            "RangeIndex: 100000 entries, 0 to 99999\n",
            "Data columns (total 15 columns):\n",
            " #   Column                  Non-Null Count   Dtype \n",
            "---  ------                  --------------   ----- \n",
            " 0   Transaction ID          100000 non-null  object\n",
            " 1   Date                    100000 non-null  object\n",
            " 2   Time                    100000 non-null  int64 \n",
            " 3   Type of Card            100000 non-null  object\n",
            " 4   Entry Mode              100000 non-null  object\n",
            " 5   Amount                  100000 non-null  object\n",
            " 6   Type of Transaction     100000 non-null  object\n",
            " 7   Merchant Group          100000 non-null  object\n",
            " 8   Country of Transaction  100000 non-null  object\n",
            " 9   Shipping Address        100000 non-null  object\n",
            " 10  Country of Residence    100000 non-null  object\n",
            " 11  Gender                  100000 non-null  object\n",
            " 12  Age                     100000 non-null  int64 \n",
            " 13  Bank                    100000 non-null  object\n",
            " 14  Fraud                   100000 non-null  int64 \n",
            "dtypes: int64(3), object(12)\n",
            "memory usage: 11.4+ MB\n"
          ]
        }
      ],
      "source": [
        "df_train.info()"
      ]
    },
    {
      "cell_type": "code",
      "execution_count": null,
      "metadata": {
        "colab": {
          "base_uri": "https://localhost:8080/"
        },
        "id": "GXKp6GOPhUgF",
        "outputId": "526f8a92-6ee3-4451-cb9f-ab94976b3c28"
      },
      "outputs": [
        {
          "data": {
            "text/plain": [
              "(100000, 15)"
            ]
          },
          "execution_count": 6,
          "metadata": {},
          "output_type": "execute_result"
        }
      ],
      "source": [
        "df_train.shape #get dimension of of the dataset"
      ]
    },
    {
      "cell_type": "code",
      "execution_count": null,
      "metadata": {
        "colab": {
          "base_uri": "https://localhost:8080/"
        },
        "id": "cgqtV3NhEZQY",
        "outputId": "2323c87d-c0d1-4118-b716-33d71c05c7ae"
      },
      "outputs": [
        {
          "data": {
            "text/plain": [
              "Transaction ID            0\n",
              "Date                      0\n",
              "Time                      0\n",
              "Type of Card              0\n",
              "Entry Mode                0\n",
              "Amount                    0\n",
              "Type of Transaction       0\n",
              "Merchant Group            0\n",
              "Country of Transaction    0\n",
              "Shipping Address          0\n",
              "Country of Residence      0\n",
              "Gender                    0\n",
              "Age                       0\n",
              "Bank                      0\n",
              "Fraud                     0\n",
              "dtype: int64"
            ]
          },
          "execution_count": 7,
          "metadata": {},
          "output_type": "execute_result"
        }
      ],
      "source": [
        "# Checking for null values\n",
        "df_train.isnull().sum()"
      ]
    },
    {
      "cell_type": "markdown",
      "source": [
        "## Data cleaning"
      ],
      "metadata": {
        "id": "vN-rPSsa3mgP"
      }
    },
    {
      "cell_type": "code",
      "execution_count": null,
      "metadata": {
        "colab": {
          "base_uri": "https://localhost:8080/"
        },
        "id": "t3XcLLZMH7g0",
        "outputId": "aa81437c-f840-4d5b-c5d9-3df7201d610c"
      },
      "outputs": [
        {
          "data": {
            "text/plain": [
              "Transaction ID            95687\n",
              "Date                          2\n",
              "Time                         24\n",
              "Type of Card                  2\n",
              "Entry Mode                    2\n",
              "Amount                      396\n",
              "Type of Transaction           3\n",
              "Merchant Group               10\n",
              "Country of Transaction        5\n",
              "Shipping Address              5\n",
              "Country of Residence          5\n",
              "Gender                        2\n",
              "Age                          65\n",
              "Bank                          8\n",
              "Fraud                         2\n",
              "dtype: int64"
            ]
          },
          "execution_count": 8,
          "metadata": {},
          "output_type": "execute_result"
        }
      ],
      "source": [
        "df_train.nunique() #checking for unique values in order to identify duplicates"
      ]
    },
    {
      "cell_type": "code",
      "execution_count": null,
      "metadata": {
        "colab": {
          "base_uri": "https://localhost:8080/"
        },
        "id": "MZpxuTzKIkLq",
        "outputId": "f599a37d-08e6-4456-c778-211337e33fc0"
      },
      "outputs": [
        {
          "data": {
            "text/plain": [
              "(95687, 15)"
            ]
          },
          "execution_count": 9,
          "metadata": {},
          "output_type": "execute_result"
        }
      ],
      "source": [
        "df_train = df_train.drop_duplicates(['Transaction ID'],keep = 'first')# dropping duplicates while retaining the firts values\n",
        "df_train.shape"
      ]
    },
    {
      "cell_type": "code",
      "execution_count": null,
      "metadata": {
        "id": "bhyVVcW0iGtD"
      },
      "outputs": [],
      "source": [
        "# Feature transformation\n",
        "df_train['Date'] = pd.to_datetime(df_train['Date']) #converting into datetime format\n",
        "#converting into amount into numeric by removing \"£\" sign\n",
        "df_train['Amount'] = df_train['Amount'].replace({r'\\£':''}, regex = True).astype(int)\n",
        "df_train['Fraud'] = df_train['Fraud'].astype(str)  # converting Fraud to categorical data from numeric"
      ]
    },
    {
      "cell_type": "code",
      "execution_count": null,
      "metadata": {
        "colab": {
          "base_uri": "https://localhost:8080/"
        },
        "id": "ik2LF26TkKHJ",
        "outputId": "ddb9b3da-7cf1-4404-8f71-bfaccb6d6c80"
      },
      "outputs": [
        {
          "name": "stdout",
          "output_type": "stream",
          "text": [
            "<class 'pandas.core.frame.DataFrame'>\n",
            "Int64Index: 95687 entries, 0 to 99999\n",
            "Data columns (total 15 columns):\n",
            " #   Column                  Non-Null Count  Dtype         \n",
            "---  ------                  --------------  -----         \n",
            " 0   Transaction ID          95687 non-null  object        \n",
            " 1   Date                    95687 non-null  datetime64[ns]\n",
            " 2   Time                    95687 non-null  int64         \n",
            " 3   Type of Card            95687 non-null  object        \n",
            " 4   Entry Mode              95687 non-null  object        \n",
            " 5   Amount                  95687 non-null  int32         \n",
            " 6   Type of Transaction     95687 non-null  object        \n",
            " 7   Merchant Group          95687 non-null  object        \n",
            " 8   Country of Transaction  95687 non-null  object        \n",
            " 9   Shipping Address        95687 non-null  object        \n",
            " 10  Country of Residence    95687 non-null  object        \n",
            " 11  Gender                  95687 non-null  object        \n",
            " 12  Age                     95687 non-null  int64         \n",
            " 13  Bank                    95687 non-null  object        \n",
            " 14  Fraud                   95687 non-null  object        \n",
            "dtypes: datetime64[ns](1), int32(1), int64(2), object(11)\n",
            "memory usage: 11.3+ MB\n"
          ]
        }
      ],
      "source": [
        "df_train.info() #checking again after the conversion."
      ]
    },
    {
      "cell_type": "code",
      "execution_count": null,
      "metadata": {
        "id": "URpX4-L7kPK4"
      },
      "outputs": [],
      "source": [
        "num_df = df_train.select_dtypes(exclude=[object])# selecting numeric features\n",
        "cat_df = df_train.select_dtypes(include=[object])# selecting categorical features"
      ]
    },
    {
      "cell_type": "code",
      "execution_count": null,
      "metadata": {
        "colab": {
          "base_uri": "https://localhost:8080/",
          "height": 300
        },
        "id": "3ySmgvg7qfXX",
        "outputId": "36b42708-b4c8-4058-cd1a-6a43a5e2c340"
      },
      "outputs": [
        {
          "data": {
            "text/html": [
              "<div>\n",
              "<style scoped>\n",
              "    .dataframe tbody tr th:only-of-type {\n",
              "        vertical-align: middle;\n",
              "    }\n",
              "\n",
              "    .dataframe tbody tr th {\n",
              "        vertical-align: top;\n",
              "    }\n",
              "\n",
              "    .dataframe thead th {\n",
              "        text-align: right;\n",
              "    }\n",
              "</style>\n",
              "<table border=\"1\" class=\"dataframe\">\n",
              "  <thead>\n",
              "    <tr style=\"text-align: right;\">\n",
              "      <th></th>\n",
              "      <th>Time</th>\n",
              "      <th>Amount</th>\n",
              "      <th>Age</th>\n",
              "    </tr>\n",
              "  </thead>\n",
              "  <tbody>\n",
              "    <tr>\n",
              "      <th>count</th>\n",
              "      <td>95687.000000</td>\n",
              "      <td>95687.000000</td>\n",
              "      <td>95687.000000</td>\n",
              "    </tr>\n",
              "    <tr>\n",
              "      <th>mean</th>\n",
              "      <td>14.545393</td>\n",
              "      <td>112.482856</td>\n",
              "      <td>53.070772</td>\n",
              "    </tr>\n",
              "    <tr>\n",
              "      <th>std</th>\n",
              "      <td>5.324928</td>\n",
              "      <td>123.388712</td>\n",
              "      <td>18.749544</td>\n",
              "    </tr>\n",
              "    <tr>\n",
              "      <th>min</th>\n",
              "      <td>0.000000</td>\n",
              "      <td>5.000000</td>\n",
              "      <td>21.000000</td>\n",
              "    </tr>\n",
              "    <tr>\n",
              "      <th>25%</th>\n",
              "      <td>10.000000</td>\n",
              "      <td>17.000000</td>\n",
              "      <td>37.000000</td>\n",
              "    </tr>\n",
              "    <tr>\n",
              "      <th>50%</th>\n",
              "      <td>15.000000</td>\n",
              "      <td>30.000000</td>\n",
              "      <td>53.000000</td>\n",
              "    </tr>\n",
              "    <tr>\n",
              "      <th>75%</th>\n",
              "      <td>19.000000</td>\n",
              "      <td>208.000000</td>\n",
              "      <td>69.000000</td>\n",
              "    </tr>\n",
              "    <tr>\n",
              "      <th>max</th>\n",
              "      <td>23.000000</td>\n",
              "      <td>400.000000</td>\n",
              "      <td>85.000000</td>\n",
              "    </tr>\n",
              "  </tbody>\n",
              "</table>\n",
              "</div>"
            ],
            "text/plain": [
              "               Time        Amount           Age\n",
              "count  95687.000000  95687.000000  95687.000000\n",
              "mean      14.545393    112.482856     53.070772\n",
              "std        5.324928    123.388712     18.749544\n",
              "min        0.000000      5.000000     21.000000\n",
              "25%       10.000000     17.000000     37.000000\n",
              "50%       15.000000     30.000000     53.000000\n",
              "75%       19.000000    208.000000     69.000000\n",
              "max       23.000000    400.000000     85.000000"
            ]
          },
          "execution_count": 13,
          "metadata": {},
          "output_type": "execute_result"
        }
      ],
      "source": [
        "num_df.describe() #summary statistics for numeric data"
      ]
    },
    {
      "cell_type": "code",
      "execution_count": null,
      "metadata": {
        "colab": {
          "base_uri": "https://localhost:8080/",
          "height": 174
        },
        "id": "HxBqBJ7rs6eo",
        "outputId": "ad7a54f5-9ad6-4b3b-a056-4a669d1e9318"
      },
      "outputs": [
        {
          "data": {
            "text/html": [
              "<div>\n",
              "<style scoped>\n",
              "    .dataframe tbody tr th:only-of-type {\n",
              "        vertical-align: middle;\n",
              "    }\n",
              "\n",
              "    .dataframe tbody tr th {\n",
              "        vertical-align: top;\n",
              "    }\n",
              "\n",
              "    .dataframe thead th {\n",
              "        text-align: right;\n",
              "    }\n",
              "</style>\n",
              "<table border=\"1\" class=\"dataframe\">\n",
              "  <thead>\n",
              "    <tr style=\"text-align: right;\">\n",
              "      <th></th>\n",
              "      <th>Transaction ID</th>\n",
              "      <th>Type of Card</th>\n",
              "      <th>Entry Mode</th>\n",
              "      <th>Type of Transaction</th>\n",
              "      <th>Merchant Group</th>\n",
              "      <th>Country of Transaction</th>\n",
              "      <th>Shipping Address</th>\n",
              "      <th>Country of Residence</th>\n",
              "      <th>Gender</th>\n",
              "      <th>Bank</th>\n",
              "      <th>Fraud</th>\n",
              "    </tr>\n",
              "  </thead>\n",
              "  <tbody>\n",
              "    <tr>\n",
              "      <th>count</th>\n",
              "      <td>95687</td>\n",
              "      <td>95687</td>\n",
              "      <td>95687</td>\n",
              "      <td>95687</td>\n",
              "      <td>95687</td>\n",
              "      <td>95687</td>\n",
              "      <td>95687</td>\n",
              "      <td>95687</td>\n",
              "      <td>95687</td>\n",
              "      <td>95687</td>\n",
              "      <td>95687</td>\n",
              "    </tr>\n",
              "    <tr>\n",
              "      <th>unique</th>\n",
              "      <td>95687</td>\n",
              "      <td>2</td>\n",
              "      <td>2</td>\n",
              "      <td>3</td>\n",
              "      <td>10</td>\n",
              "      <td>5</td>\n",
              "      <td>5</td>\n",
              "      <td>5</td>\n",
              "      <td>2</td>\n",
              "      <td>8</td>\n",
              "      <td>2</td>\n",
              "    </tr>\n",
              "    <tr>\n",
              "      <th>top</th>\n",
              "      <td>#2546 884</td>\n",
              "      <td>Visa</td>\n",
              "      <td>PIN</td>\n",
              "      <td>Online</td>\n",
              "      <td>Children</td>\n",
              "      <td>United Kingdom</td>\n",
              "      <td>United Kingdom</td>\n",
              "      <td>United Kingdom</td>\n",
              "      <td>M</td>\n",
              "      <td>Barclays</td>\n",
              "      <td>0</td>\n",
              "    </tr>\n",
              "    <tr>\n",
              "      <th>freq</th>\n",
              "      <td>1</td>\n",
              "      <td>51552</td>\n",
              "      <td>47969</td>\n",
              "      <td>31996</td>\n",
              "      <td>10218</td>\n",
              "      <td>68028</td>\n",
              "      <td>58178</td>\n",
              "      <td>78313</td>\n",
              "      <td>48669</td>\n",
              "      <td>28641</td>\n",
              "      <td>88678</td>\n",
              "    </tr>\n",
              "  </tbody>\n",
              "</table>\n",
              "</div>"
            ],
            "text/plain": [
              "       Transaction ID Type of Card Entry Mode Type of Transaction  \\\n",
              "count           95687        95687      95687               95687   \n",
              "unique          95687            2          2                   3   \n",
              "top         #2546 884         Visa        PIN              Online   \n",
              "freq                1        51552      47969               31996   \n",
              "\n",
              "       Merchant Group Country of Transaction Shipping Address  \\\n",
              "count           95687                  95687            95687   \n",
              "unique             10                      5                5   \n",
              "top          Children         United Kingdom   United Kingdom   \n",
              "freq            10218                  68028            58178   \n",
              "\n",
              "       Country of Residence Gender      Bank  Fraud  \n",
              "count                 95687  95687     95687  95687  \n",
              "unique                    5      2         8      2  \n",
              "top          United Kingdom      M  Barclays      0  \n",
              "freq                  78313  48669     28641  88678  "
            ]
          },
          "execution_count": 14,
          "metadata": {},
          "output_type": "execute_result"
        }
      ],
      "source": [
        "cat_df.describe() #summary statistic for categorical data"
      ]
    },
    {
      "cell_type": "code",
      "execution_count": null,
      "metadata": {
        "colab": {
          "base_uri": "https://localhost:8080/"
        },
        "id": "RLrqMJ8jsnDI",
        "outputId": "c35a37fe-eccc-49a7-fb5c-bcba87093de6"
      },
      "outputs": [
        {
          "data": {
            "text/plain": [
              "Index(['Transaction ID', 'Type of Card', 'Entry Mode', 'Type of Transaction',\n",
              "       'Merchant Group', 'Country of Transaction', 'Shipping Address',\n",
              "       'Country of Residence', 'Gender', 'Bank', 'Fraud'],\n",
              "      dtype='object')"
            ]
          },
          "execution_count": 15,
          "metadata": {},
          "output_type": "execute_result"
        }
      ],
      "source": [
        "cat_df.columns # column names for categorical features"
      ]
    },
    {
      "cell_type": "markdown",
      "metadata": {
        "id": "yCyL2R2VoIi8"
      },
      "source": [
        "## Exploratory Data Analysis\n",
        "### Numeric data "
      ]
    },
    {
      "cell_type": "code",
      "execution_count": null,
      "metadata": {
        "colab": {
          "base_uri": "https://localhost:8080/",
          "height": 354
        },
        "id": "SkS3Dl1Y9mTF",
        "outputId": "0f126d1c-ea53-4cdc-cc33-596c8862a6c7"
      },
      "outputs": [
        {
          "data": {
            "text/plain": [
              "<AxesSubplot:xlabel='Age', ylabel='Density'>"
            ]
          },
          "execution_count": 16,
          "metadata": {},
          "output_type": "execute_result"
        },
        {
          "data": {
            "image/png": "[encoded data removed]",
            "text/plain": [
              "<Figure size 432x288 with 1 Axes>"
            ]
          },
          "metadata": {
            "needs_background": "light"
          },
          "output_type": "display_data"
        }
      ],
      "source": [
        "# obtain the distribution of \"Age\"\n",
        "sns.distplot(df_train[\"Age\"],color='darkorange') \n"
      ]
    },
    {
      "cell_type": "code",
      "execution_count": null,
      "metadata": {
        "colab": {
          "base_uri": "https://localhost:8080/",
          "height": 354
        },
        "id": "w-NxvaUPp7D1",
        "outputId": "dc4f7e80-9e2d-4590-9c11-b6e6873f0844"
      },
      "outputs": [
        {
          "data": {
            "text/plain": [
              "<AxesSubplot:xlabel='Amount', ylabel='Density'>"
            ]
          },
          "execution_count": 17,
          "metadata": {},
          "output_type": "execute_result"
        },
        {
          "data": {
            "image/png": "[encoded data removed]",
            "text/plain": [
              "<Figure size 432x288 with 1 Axes>"
            ]
          },
          "metadata": {
            "needs_background": "light"
          },
          "output_type": "display_data"
        }
      ],
      "source": [
        "## obtain the distribution of \"Amount\"\n",
        "sns.distplot(df_train[\"Amount\"],color='darkorange')"
      ]
    },
    {
      "cell_type": "code",
      "execution_count": null,
      "metadata": {
        "colab": {
          "base_uri": "https://localhost:8080/",
          "height": 300
        },
        "id": "fUgd_kGG95AU",
        "outputId": "eb2f9ce1-2c46-47d2-9ef3-412db0b6c3e3"
      },
      "outputs": [
        {
          "data": {
            "text/plain": [
              "<AxesSubplot:xlabel='Age', ylabel='Count'>"
            ]
          },
          "execution_count": 18,
          "metadata": {},
          "output_type": "execute_result"
        },
        {
          "data": {
            "image/png": "[encoded data removed]",
            "text/plain": [
              "<Figure size 432x288 with 1 Axes>"
            ]
          },
          "metadata": {
            "needs_background": "light"
          },
          "output_type": "display_data"
        }
      ],
      "source": [
        "# histogram of Age, based on Fraud\n",
        "sns.histplot(x='Age',data=df_train,hue=df_train['Fraud'], bins= 10) "
      ]
    },
    {
      "cell_type": "code",
      "execution_count": null,
      "metadata": {
        "colab": {
          "base_uri": "https://localhost:8080/",
          "height": 541
        },
        "id": "Olgmm6gf-z29",
        "outputId": "15d92f81-f957-4055-ae6d-ca18d76fa494"
      },
      "outputs": [
        {
          "data": {
            "image/png": "[encoded data removed]",
            "text/plain": [
              "<Figure size 864x648 with 2 Axes>"
            ]
          },
          "metadata": {
            "needs_background": "light"
          },
          "output_type": "display_data"
        }
      ],
      "source": [
        "#Coorelation analysis for numeric values\n",
        "num_corr = num_df.corr(method='pearson', min_periods=1)\n",
        "f, ax = plt.subplots(figsize=(12, 9))\n",
        "sns.heatmap(num_corr, vmax=.8, square=True);"
      ]
    },
    {
      "cell_type": "code",
      "execution_count": null,
      "metadata": {
        "colab": {
          "base_uri": "https://localhost:8080/",
          "height": 297
        },
        "id": "1Ogpf6QsBHod",
        "outputId": "75cd147f-36fc-4a47-868d-732931a262be"
      },
      "outputs": [
        {
          "data": {
            "text/plain": [
              "<AxesSubplot:xlabel='Fraud', ylabel='Amount'>"
            ]
          },
          "execution_count": 21,
          "metadata": {},
          "output_type": "execute_result"
        },
        {
          "data": {
            "image/png": "[encoded data removed]",
            "text/plain": [
              "<Figure size 432x288 with 1 Axes>"
            ]
          },
          "metadata": {
            "needs_background": "light"
          },
          "output_type": "display_data"
        }
      ],
      "source": [
        "#Average Amount of Fraud and non-Fraud transactions\n",
        "ns.barplot(x='Fraud',y='Amount',data=df_train)"
      ]
    },
    {
      "cell_type": "code",
      "execution_count": null,
      "metadata": {
        "colab": {
          "base_uri": "https://localhost:8080/",
          "height": 387
        },
        "id": "wtuzXkkjCXX8",
        "outputId": "ce469cc7-e692-40c2-e22d-39202738c9d4"
      },
      "outputs": [
        {
          "data": {
            "image/png": "[encoded data removed]",
            "text/plain": [
              "<Figure size 576x432 with 1 Axes>"
            ]
          },
          "metadata": {
            "needs_background": "light"
          },
          "output_type": "display_data"
        }
      ],
      "source": [
        "#scatter plot Fraud/Amout\n",
        "var = 'Fraud'\n",
        "data = pd.concat([df_train['Amount'], df_train[var]], axis=1)\n",
        "f, ax = plt.subplots(figsize=(8, 6))\n",
        "fig = sns.boxplot(x=var, y='Amount', data=data) #A boxplot to check for outliers\n",
        "fig.axis();"
      ]
    },
    {
      "cell_type": "code",
      "execution_count": null,
      "metadata": {
        "colab": {
          "base_uri": "https://localhost:8080/",
          "height": 387
        },
        "id": "pq8vtzLkDePD",
        "outputId": "34aea555-e304-45f9-f615-f059aa53f2bd"
      },
      "outputs": [
        {
          "data": {
            "image/png": "[encoded data removed]",
            "text/plain": [
              "<Figure size 576x432 with 1 Axes>"
            ]
          },
          "metadata": {
            "needs_background": "light"
          },
          "output_type": "display_data"
        }
      ],
      "source": [
        "#scatter plot Fraud/Age\n",
        "var = 'Fraud'\n",
        "data = pd.concat([df_train['Age'], df_train[var]], axis=1)\n",
        "f, ax = plt.subplots(figsize=(8, 6))\n",
        "fig = sns.boxplot(x=var, y='Age', data=data) #A boxplot to check for outliers\n",
        "fig.axis();"
      ]
    },
    {
      "cell_type": "code",
      "execution_count": null,
      "metadata": {
        "id": "GIs0RaozpwKv"
      },
      "outputs": [],
      "source": [
        "#Fuction to visualize univariate analysis\n",
        "# parameters; dataframe (df) and a feature in the dataframe(var)\n",
        "def cat_uni_plot(df, var):\n",
        "    df[var].value_counts().plot.bar()"
      ]
    },
    {
      "cell_type": "code",
      "execution_count": null,
      "metadata": {
        "colab": {
          "base_uri": "https://localhost:8080/",
          "height": 313
        },
        "id": "p7kCyFEvqREr",
        "outputId": "d6146381-7d18-47a6-a5d1-a8333a2adb3d"
      },
      "outputs": [
        {
          "data": {
            "image/png": "[encoded data removed]",
            "text/plain": [
              "<Figure size 432x288 with 1 Axes>"
            ]
          },
          "metadata": {
            "needs_background": "light"
          },
          "output_type": "display_data"
        }
      ],
      "source": [
        "cat_uni_plot(cat_df, 'Type of Card')"
      ]
    },
    {
      "cell_type": "code",
      "execution_count": null,
      "metadata": {
        "colab": {
          "base_uri": "https://localhost:8080/",
          "height": 274
        },
        "id": "UwJrFnoUoLsn",
        "outputId": "4ccfe8de-7d4a-40de-d419-004c2a9ce8d3"
      },
      "outputs": [
        {
          "data": {
            "image/png": "[encoded data removed]",
            "text/plain": [
              "<Figure size 432x288 with 1 Axes>"
            ]
          },
          "metadata": {
            "needs_background": "light"
          },
          "output_type": "display_data"
        }
      ],
      "source": [
        "cat_uni_plot(cat_df, 'Entry Mode')"
      ]
    },
    {
      "cell_type": "code",
      "execution_count": null,
      "metadata": {
        "colab": {
          "base_uri": "https://localhost:8080/",
          "height": 287
        },
        "id": "sUrX5e7BpFX6",
        "outputId": "ae1a5e68-e237-40c9-932e-9a23f20d8ecf"
      },
      "outputs": [
        {
          "data": {
            "image/png": "[encoded data removed]",
            "text/plain": [
              "<Figure size 432x288 with 1 Axes>"
            ]
          },
          "metadata": {
            "needs_background": "light"
          },
          "output_type": "display_data"
        }
      ],
      "source": [
        "cat_uni_plot(cat_df, 'Type of Transaction')"
      ]
    },
    {
      "cell_type": "code",
      "execution_count": null,
      "metadata": {
        "colab": {
          "base_uri": "https://localhost:8080/",
          "height": 326
        },
        "id": "sHwOhb6rs78Y",
        "outputId": "91df526c-ff6d-422f-bb4b-4a7abda6f25d"
      },
      "outputs": [
        {
          "data": {
            "image/png": "[encoded data removed]",
            "text/plain": [
              "<Figure size 432x288 with 1 Axes>"
            ]
          },
          "metadata": {
            "needs_background": "light"
          },
          "output_type": "display_data"
        }
      ],
      "source": [
        "cat_uni_plot(cat_df, 'Merchant Group')"
      ]
    },
    {
      "cell_type": "code",
      "execution_count": null,
      "metadata": {
        "colab": {
          "base_uri": "https://localhost:8080/",
          "height": 335
        },
        "id": "orTpjNuEtY7y",
        "outputId": "02e83043-43ba-4a01-b293-25c6a5366ddd"
      },
      "outputs": [
        {
          "data": {
            "image/png": "[encoded data removed]",
            "text/plain": [
              "<Figure size 432x288 with 1 Axes>"
            ]
          },
          "metadata": {
            "needs_background": "light"
          },
          "output_type": "display_data"
        }
      ],
      "source": [
        "cat_uni_plot(cat_df, 'Country of Transaction')"
      ]
    },
    {
      "cell_type": "code",
      "execution_count": null,
      "metadata": {
        "colab": {
          "base_uri": "https://localhost:8080/",
          "height": 335
        },
        "id": "nGoJWjKqtd2G",
        "outputId": "90a110a4-4a7b-4daf-f38e-a87b6dd29ff2"
      },
      "outputs": [
        {
          "data": {
            "image/png": "[encoded data removed]",
            "text/plain": [
              "<Figure size 432x288 with 1 Axes>"
            ]
          },
          "metadata": {
            "needs_background": "light"
          },
          "output_type": "display_data"
        }
      ],
      "source": [
        "cat_uni_plot(cat_df, 'Shipping Address')"
      ]
    },
    {
      "cell_type": "code",
      "execution_count": null,
      "metadata": {
        "colab": {
          "base_uri": "https://localhost:8080/",
          "height": 335
        },
        "id": "VlNypriOtr3K",
        "outputId": "82adb14d-d354-4787-8c27-c255fe8ac363"
      },
      "outputs": [
        {
          "data": {
            "image/png": "[encoded data removed]",
            "text/plain": [
              "<Figure size 432x288 with 1 Axes>"
            ]
          },
          "metadata": {
            "needs_background": "light"
          },
          "output_type": "display_data"
        }
      ],
      "source": [
        "cat_uni_plot(cat_df,'Country of Residence' )"
      ]
    },
    {
      "cell_type": "code",
      "execution_count": null,
      "metadata": {
        "colab": {
          "base_uri": "https://localhost:8080/",
          "height": 264
        },
        "id": "HGpEdfLNt2d9",
        "outputId": "9229c703-a327-4c2a-8bb1-239cc94b696d"
      },
      "outputs": [
        {
          "data": {
            "image/png": "[encoded data removed]",
            "text/plain": [
              "<Figure size 432x288 with 1 Axes>"
            ]
          },
          "metadata": {
            "needs_background": "light"
          },
          "output_type": "display_data"
        }
      ],
      "source": [
        "cat_uni_plot(cat_df, 'Gender')"
      ]
    },
    {
      "cell_type": "code",
      "execution_count": null,
      "metadata": {
        "colab": {
          "base_uri": "https://localhost:8080/",
          "height": 302
        },
        "id": "beWK9kR1uBmg",
        "outputId": "69ab1787-ce22-488f-9c4a-5169ea95e18f"
      },
      "outputs": [
        {
          "data": {
            "image/png": "[encoded data removed]",
            "text/plain": [
              "<Figure size 432x288 with 1 Axes>"
            ]
          },
          "metadata": {
            "needs_background": "light"
          },
          "output_type": "display_data"
        }
      ],
      "source": [
        "cat_uni_plot(cat_df, 'Bank')"
      ]
    },
    {
      "cell_type": "code",
      "execution_count": null,
      "metadata": {
        "colab": {
          "base_uri": "https://localhost:8080/",
          "height": 262
        },
        "id": "PSZHBpCtwMgK",
        "outputId": "9ec24284-08f2-4b57-f94e-e732ef22f7f5"
      },
      "outputs": [
        {
          "data": {
            "image/png": "[encoded data removed]",
            "text/plain": [
              "<Figure size 432x288 with 1 Axes>"
            ]
          },
          "metadata": {
            "needs_background": "light"
          },
          "output_type": "display_data"
        }
      ],
      "source": [
        "cat_uni_plot(cat_df, 'Fraud')"
      ]
    },
    {
      "cell_type": "code",
      "execution_count": null,
      "metadata": {
        "id": "0IIKD8AaweYj"
      },
      "outputs": [],
      "source": [
        "#Function to visualize bivariate analysis\n",
        "#parameters; dataframe(df),hue=\"the dependent variable\",first feature (var_1),second feature (var_2)\n",
        "#The function plots 1 x 2 graph\n",
        "def bivariate_plots(df, hue, var_1, var_2):\n",
        "    fig, axs = plt.subplots(nrows= 1, ncols = 2, figsize=(8,5))\n",
        "    plt.subplot(1,2,1)\n",
        "    ax = sns.countplot(x=var_1, hue = hue,data=df, order=df[var_1].value_counts().index)\n",
        "    ax.set_xticklabels(ax.get_xticklabels(), rotation=45);\n",
        "    plt.subplot(1,2,2)\n",
        "    ax = sns.countplot(x=var_2, hue = hue,data=df, order=df[var_2].value_counts().index)\n",
        "    ax.set_xticklabels(ax.get_xticklabels(), rotation=45);\n",
        "    plt.tight_layout()\n",
        "    plt.show()"
      ]
    },
    {
      "cell_type": "code",
      "execution_count": null,
      "metadata": {
        "colab": {
          "base_uri": "https://localhost:8080/",
          "height": 368
        },
        "id": "uR3bx5BFy3nE",
        "outputId": "9ab249e8-3159-4b7d-94dd-4386f943179c"
      },
      "outputs": [
        {
          "data": {
            "image/png": "[encoded data removed]",
            "text/plain": [
              "<Figure size 576x360 with 2 Axes>"
            ]
          },
          "metadata": {
            "needs_background": "light"
          },
          "output_type": "display_data"
        }
      ],
      "source": [
        "bivariate_plots(cat_df, 'Fraud', 'Type of Card',\t'Entry Mode')"
      ]
    },
    {
      "cell_type": "code",
      "execution_count": null,
      "metadata": {
        "colab": {
          "base_uri": "https://localhost:8080/",
          "height": 368
        },
        "id": "rL8wITaaxn43",
        "outputId": "4916c730-884a-4b72-9bde-90496285295d"
      },
      "outputs": [
        {
          "data": {
            "image/png": "[encoded data removed]",
            "text/plain": [
              "<Figure size 576x360 with 2 Axes>"
            ]
          },
          "metadata": {
            "needs_background": "light"
          },
          "output_type": "display_data"
        }
      ],
      "source": [
        "bivariate_plots(cat_df, 'Fraud', 'Type of Transaction',\t'Merchant Group')"
      ]
    },
    {
      "cell_type": "code",
      "execution_count": null,
      "metadata": {
        "colab": {
          "base_uri": "https://localhost:8080/",
          "height": 368
        },
        "id": "bRyMXG2YuIrT",
        "outputId": "b77c31b4-b911-4121-acce-65e770ac779a"
      },
      "outputs": [
        {
          "data": {
            "image/png": "[encoded data removed]",
            "text/plain": [
              "<Figure size 576x360 with 2 Axes>"
            ]
          },
          "metadata": {
            "needs_background": "light"
          },
          "output_type": "display_data"
        }
      ],
      "source": [
        "bivariate_plots(cat_df, 'Fraud', 'Gender',\t'Bank'\t)"
      ]
    },
    {
      "cell_type": "code",
      "execution_count": null,
      "metadata": {
        "colab": {
          "base_uri": "https://localhost:8080/",
          "height": 368
        },
        "id": "RKOt35N5zX2l",
        "outputId": "2f835e88-27ff-4d2f-9ec0-3da7452cc4e3"
      },
      "outputs": [
        {
          "data": {
            "image/png": "[encoded data removed]",
            "text/plain": [
              "<Figure size 576x360 with 2 Axes>"
            ]
          },
          "metadata": {
            "needs_background": "light"
          },
          "output_type": "display_data"
        }
      ],
      "source": [
        "bivariate_plots(cat_df, 'Fraud', 'Country of Transaction',\t'Shipping Address'\t)"
      ]
    },
    {
      "cell_type": "markdown",
      "source": [
        "### Multivariate analysis"
      ],
      "metadata": {
        "id": "y_zyqXvGySFQ"
      }
    },
    {
      "cell_type": "code",
      "execution_count": null,
      "metadata": {
        "colab": {
          "base_uri": "https://localhost:8080/",
          "height": 588
        },
        "id": "vnpquSuY2SIb",
        "outputId": "3c60b884-f7e3-455a-910a-99af001559ec"
      },
      "outputs": [
        {
          "data": {
            "image/png": "[encoded data removed]",
            "text/plain": [
              "<Figure size 720x576 with 2 Axes>"
            ]
          },
          "metadata": {
            "needs_background": "light"
          },
          "output_type": "display_data"
        }
      ],
      "source": [
        "#corrleation analysis of categorical data\n",
        "corr = cat_df.apply(lambda x : pd.factorize(x)[0]).corr(method='pearson', min_periods=1)\n",
        "f, ax = plt.subplots(figsize=(10, 8))\n",
        "sns.heatmap(corr, vmax=.8, square=True);\n"
      ]
    },
    {
      "cell_type": "markdown",
      "source": [
        "## Data Preparation"
      ],
      "metadata": {
        "id": "JloTcXen1ZWr"
      }
    },
    {
      "cell_type": "markdown",
      "metadata": {
        "id": "BAH4Y1dk_zO5"
      },
      "source": [
        "## feature enginneering"
      ]
    },
    {
      "cell_type": "code",
      "execution_count": null,
      "metadata": {
        "id": "ZE5_1ylg2nRV"
      },
      "outputs": [],
      "source": [
        "#Combining 'Country of Transaction' and 'Shipping Address' to form a new feature\n",
        "df_train['country_s_address'] = df_train['Country of Transaction'] + df_train['Shipping Address']\n",
        "#Obtaining month_name as a new feature from Dates \n",
        "df_train['Month'] = df_train['Date'].dt.month_name()\n",
        "#Obtaining week_day_name as a new feature from Dates \n",
        "df_train['Week_day_name'] =df_train['Date'].dt.day_name()"
      ]
    },
    {
      "cell_type": "code",
      "execution_count": null,
      "metadata": {
        "colab": {
          "base_uri": "https://localhost:8080/",
          "height": 297
        },
        "id": "bocCI-6IAZXf",
        "outputId": "6753da98-a7a9-40a2-bfdc-9ebd2d02da91"
      },
      "outputs": [
        {
          "data": {
            "image/png": "[encoded data removed]",
            "text/plain": [
              "<Figure size 432x288 with 1 Axes>"
            ]
          },
          "metadata": {
            "needs_background": "light"
          },
          "output_type": "display_data"
        }
      ],
      "source": [
        "#Lets explore how the new feature, 'country_s_address', is bale to classify flaud and non-fraud cases\n",
        "ax = sns.countplot(x='country_s_address', hue = 'Fraud',data=df_train, order=df_train['country_s_address'].value_counts().index)\n",
        "ax.set_xticklabels(ax.get_xticklabels(), rotation=45);\n",
        "plt.tight_layout()\n",
        "plt.show()"
      ]
    },
    {
      "cell_type": "markdown",
      "source": [
        "**Observation**\n",
        "* Cross-country transactions have no fradulent transactions; only transactions that within a jurisdiction have fraud"
      ],
      "metadata": {
        "id": "or6ejOnh0kKp"
      }
    },
    {
      "cell_type": "code",
      "execution_count": null,
      "metadata": {
        "id": "1MLPcKiSEoCa"
      },
      "outputs": [],
      "source": [
        "#function to generalise Amounts of transaction into ; '>= 60' (less than 60 dollars), \"61-120\" (between 60 and 120 dollars), and \">120\" (Amounts above 120 dollars)\n",
        "def amount_classifier(df, feature):\n",
        "  clas = []\n",
        "  for val in df[feature]:\n",
        "    if val <= 60:\n",
        "      clas.append('>= 60')\n",
        "    elif val >60 and val<=120:\n",
        "      clas.append(\"61-120\")\n",
        "    elif val>120:\n",
        "      clas.append(\">120\")\n",
        "    else:\n",
        "      clas.append('null')\n",
        "  df['class_amount'] = clas\n",
        "  return df"
      ]
    },
    {
      "cell_type": "code",
      "execution_count": null,
      "metadata": {
        "id": "g_RBpd72IRj_"
      },
      "outputs": [],
      "source": [
        "df_train = amount_classifier(df_train, 'Amount') #calling the function"
      ]
    },
    {
      "cell_type": "markdown",
      "source": [
        "### Data preprocessing"
      ],
      "metadata": {
        "id": "FChJ4xA-2pHQ"
      }
    },
    {
      "cell_type": "code",
      "execution_count": null,
      "metadata": {
        "id": "CSf_nSFIMxvk"
      },
      "outputs": [],
      "source": [
        "le = preprocessing.LabelEncoder() #label encoding using Labelencoder\n",
        "df_train['Fraud'] =le.fit_transform(df_train['Fraud']) "
      ]
    },
    {
      "cell_type": "code",
      "execution_count": null,
      "metadata": {
        "id": "HCMIFU3oJf1A"
      },
      "outputs": [],
      "source": [
        " #label encoding categorical data using Labelencoder\n",
        "df_train[['Transaction ID',  'Type of Card', 'Entry Mode',\n",
        "       'Type of Transaction', 'Merchant Group', 'Country of Transaction',\n",
        "       'Shipping Address', 'Country of Residence', 'Gender', 'Bank',\n",
        "       'country_s_address', 'class_amount','Month', 'Week_day_name']]=df_train[['Transaction ID',  'Type of Card', 'Entry Mode',\n",
        "       'Type of Transaction', 'Merchant Group', 'Country of Transaction',\n",
        "       'Shipping Address', 'Country of Residence', 'Gender', 'Bank',\n",
        "       'country_s_address', 'class_amount','Month', 'Week_day_name']].apply(le.fit_transform)\n"
      ]
    },
    {
      "cell_type": "code",
      "execution_count": null,
      "metadata": {
        "id": "q07tb2KUMlWb"
      },
      "outputs": [],
      "source": [
        "#Spliting data into targets (y) and predictors (x)\n",
        "y = df_train['Fraud']\n",
        "x = df_train.drop(['Fraud','Date','Transaction ID'],axis = 1)"
      ]
    },
    {
      "cell_type": "code",
      "execution_count": null,
      "metadata": {
        "colab": {
          "base_uri": "https://localhost:8080/"
        },
        "id": "HcNx2XcxVyUb",
        "outputId": "c6666146-a5ad-4e58-8296-cb3e4de9baef"
      },
      "outputs": [
        {
          "data": {
            "text/plain": [
              "Index(['Time', 'Type of Card', 'Entry Mode', 'Amount', 'Type of Transaction',\n",
              "       'Merchant Group', 'Country of Transaction', 'Shipping Address',\n",
              "       'Country of Residence', 'Gender', 'Age', 'Bank', 'country_s_address',\n",
              "       'Month', 'Week_day_name', 'class_amount'],\n",
              "      dtype='object')"
            ]
          },
          "execution_count": 50,
          "metadata": {},
          "output_type": "execute_result"
        }
      ],
      "source": [
        "x.columns"
      ]
    },
    {
      "cell_type": "code",
      "execution_count": null,
      "metadata": {
        "id": "BanYQwmYRmAj"
      },
      "outputs": [],
      "source": [
        "#Spliting the data into training and test data set using skit-learn's train_split function.\n",
        "x_train, x_test, y_train, y_test = train_test_split(x,y, test_size= 0.2, random_state =11)"
      ]
    },
    {
      "cell_type": "markdown",
      "metadata": {
        "id": "3JFUac1VXJsk"
      },
      "source": [
        "## XGboost classifier"
      ]
    },
    {
      "cell_type": "code",
      "execution_count": null,
      "metadata": {
        "colab": {
          "base_uri": "https://localhost:8080/"
        },
        "id": "wsX8ikouRq4A",
        "outputId": "c639329e-3aa2-4afd-a644-34130a392eb5"
      },
      "outputs": [
        {
          "data": {
            "text/plain": [
              "XGBClassifier(base_score=0.5, booster='gbtree', colsample_bylevel=1,\n",
              "              colsample_bynode=1, colsample_bytree=1, eval_metric='mlogloss',\n",
              "              gamma=0, gpu_id=-1, importance_type='gain',\n",
              "              interaction_constraints='', learning_rate=0.300000012,\n",
              "              max_delta_step=0, max_depth=6, min_child_weight=1, missing=nan,\n",
              "              monotone_constraints='()', n_estimators=100, n_jobs=4,\n",
              "              num_parallel_tree=1, random_state=0, reg_alpha=0, reg_lambda=1,\n",
              "              scale_pos_weight=1, subsample=1, tree_method='exact',\n",
              "              use_label_encoder=False, validate_parameters=1, verbosity=None)"
            ]
          },
          "execution_count": 52,
          "metadata": {},
          "output_type": "execute_result"
        }
      ],
      "source": [
        "#configuring the parameters of our XGBoost Classifier\n",
        "model = XGBClassifier(use_label_encoder=False, eval_metric='mlogloss')\n",
        "model.fit(x_train, y_train)"
      ]
    },
    {
      "cell_type": "code",
      "execution_count": null,
      "metadata": {
        "id": "FCQcnF1-UH9p"
      },
      "outputs": [],
      "source": [
        "y_pred = model.predict(x_test)# using the XGBoost classifier to make prediction"
      ]
    },
    {
      "cell_type": "code",
      "execution_count": null,
      "metadata": {
        "colab": {
          "base_uri": "https://localhost:8080/"
        },
        "id": "XT-Iyef0Wr4A",
        "outputId": "fef215cd-ed81-44bf-bb39-d3798218c9e1"
      },
      "outputs": [
        {
          "data": {
            "text/plain": [
              "0.9866234716271293"
            ]
          },
          "execution_count": 54,
          "metadata": {},
          "output_type": "execute_result"
        }
      ],
      "source": [
        "accuracy = accuracy_score(y_test, y_pred) #measuring the accuracy\n",
        "accuracy"
      ]
    },
    {
      "cell_type": "code",
      "execution_count": null,
      "metadata": {
        "colab": {
          "base_uri": "https://localhost:8080/"
        },
        "id": "s8g8GJSvWxar",
        "outputId": "f41f447b-a795-4919-eefd-bfb46a42231c"
      },
      "outputs": [
        {
          "data": {
            "text/plain": [
              "array([[17729,    49],\n",
              "       [  207,  1153]], dtype=int64)"
            ]
          },
          "execution_count": 55,
          "metadata": {},
          "output_type": "execute_result"
        }
      ],
      "source": [
        "confusion_matrix(y_test, y_pred) # measuring accuracy using Confusion matrix "
      ]
    },
    {
      "cell_type": "markdown",
      "source": [
        "* True positive rate (or sensitivity): TPR=TP/(TP+FN) = 99.72%\n",
        "* False positive rate: FPR=FP/(FP+TN) = 15.22 %"
      ],
      "metadata": {
        "id": "-AeemPmN7JZ7"
      }
    },
    {
      "cell_type": "markdown",
      "metadata": {
        "id": "EsgTBoeNYaZC"
      },
      "source": [
        "## Random Forest"
      ]
    },
    {
      "cell_type": "code",
      "execution_count": null,
      "metadata": {
        "id": "hcFUqb22W7w4"
      },
      "outputs": [],
      "source": [
        "clf=RandomForestClassifier(n_estimators=300) #configuring the parameters of our RandomForest Classifier\n",
        "clf = clf.fit(x_train,y_train)"
      ]
    },
    {
      "cell_type": "code",
      "execution_count": null,
      "metadata": {
        "id": "kUAPS1HPZEQ9"
      },
      "outputs": [],
      "source": [
        "y_pred = clf.predict(x_test))# using the model to make prediction"
      ]
    },
    {
      "cell_type": "code",
      "execution_count": null,
      "metadata": {
        "colab": {
          "base_uri": "https://localhost:8080/"
        },
        "id": "Ky3WdDTMZYst",
        "outputId": "53d50843-1556-497d-d581-55c7bfb5ff89"
      },
      "outputs": [
        {
          "data": {
            "text/plain": [
              "array([[17752,    26],\n",
              "       [  226,  1134]], dtype=int64)"
            ]
          },
          "execution_count": 58,
          "metadata": {},
          "output_type": "execute_result"
        }
      ],
      "source": [
        "confusion_matrix(y_test, y_pred) # measuring accuracy using Confusion matrix"
      ]
    },
    {
      "cell_type": "code",
      "execution_count": null,
      "metadata": {
        "colab": {
          "base_uri": "https://localhost:8080/"
        },
        "id": "iWMc_9DgZc-3",
        "outputId": "a37f36c5-0032-4c7c-c57c-8d17c8dd7a48"
      },
      "outputs": [
        {
          "data": {
            "text/plain": [
              "0.9868324798829554"
            ]
          },
          "execution_count": 59,
          "metadata": {},
          "output_type": "execute_result"
        }
      ],
      "source": [
        "accuracy = accuracy_score(y_test, y_pred)\n",
        "accuracy"
      ]
    },
    {
      "cell_type": "markdown",
      "source": [
        "* True positive rate (or sensitivity): TPR=TP/(TP+FN) = 99.85%\n",
        "* False positive rate: FPR=FP/(FP+TN) = 16.62 %"
      ],
      "metadata": {
        "id": "276zRbop8Quy"
      }
    }
  ],
  "metadata": {
    "colab": {
      "name": "BPPipynb (1).ipynb",
      "provenance": [],
      "include_colab_link": true
    },
    "kernelspec": {
      "display_name": "Python 3",
      "language": "python",
      "name": "python3"
    },
    "language_info": {
      "codemirror_mode": {
        "name": "ipython",
        "version": 3
      },
      "file_extension": ".py",
      "mimetype": "text/x-python",
      "name": "python",
      "nbconvert_exporter": "python",
      "pygments_lexer": "ipython3",
      "version": "3.8.5"
    }
  },
  "nbformat": 4,
  "nbformat_minor": 0
}